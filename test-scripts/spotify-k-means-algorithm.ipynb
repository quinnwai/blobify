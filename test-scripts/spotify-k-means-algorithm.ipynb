{
 "cells": [
  {
   "cell_type": "markdown",
   "id": "designing-nashville",
   "metadata": {},
   "source": [
    "# Spotify K Means Algorithm"
   ]
  },
  {
   "cell_type": "markdown",
   "id": "behavioral-subscription",
   "metadata": {},
   "source": [
    "## Import Packages"
   ]
  },
  {
   "cell_type": "code",
   "execution_count": 153,
   "id": "neither-concentrate",
   "metadata": {},
   "outputs": [],
   "source": [
    "# imports\n",
    "\n",
    "import json\n",
    "import requests\n",
    "from furl import furl\n",
    "from math import ceil\n",
    "\n",
    "# to save some typing\n",
    "import pandas as pd\n",
    "import numpy as np\n",
    "import matplotlib\n",
    "\n",
    "# to display plots in the notebook\n",
    "%matplotlib inline\n",
    "import matplotlib.pyplot as plt\n",
    "\n",
    "# to enable get requests through python\n",
    "import spotipy\n",
    "from spotipy.oauth2 import SpotifyOAuth"
   ]
  },
  {
   "cell_type": "markdown",
   "id": "prime-blocking",
   "metadata": {},
   "source": [
    "Spotipy: https://spotipy.readthedocs.io/en/2.18.0/#authorization-code-flow"
   ]
  },
  {
   "cell_type": "markdown",
   "id": "positive-rwanda",
   "metadata": {},
   "source": [
    "## Wrangling Spotify Data"
   ]
  },
  {
   "cell_type": "code",
   "execution_count": null,
   "id": "green-maria",
   "metadata": {
    "scrolled": true
   },
   "outputs": [
    {
     "name": "stdout",
     "output_type": "stream",
     "text": [
      "num ids: 100 200 300 400 500 600 700 800 900 1000 1100 1200 1300 1400 1500 1600 1700 1800 1900 2000 2100 2200 2300 2400 2500 2600 2700 2800 2900 3000 3100 3200 3300 3400 3500 3600 "
     ]
    }
   ],
   "source": [
    "# GET request for all track ids\n",
    "scope = \"user-library-read\"\n",
    "\n",
    "sp = spotipy.Spotify(auth_manager=SpotifyOAuth(scope=scope))\n",
    "track_ids = []\n",
    "\n",
    "\n",
    "SAVED_TRACKS_LIMIT = 20\n",
    "i = 0\n",
    "\n",
    "print(\"num ids:\", end=\" \")\n",
    "\n",
    "# for each API request of 20 tracks\n",
    "while True: \n",
    "    response = sp.current_user_saved_tracks(offset=SAVED_TRACKS_LIMIT*i)\n",
    "\n",
    "    for idx, item in enumerate(response['items']):\n",
    "        track = item['track']\n",
    "        track_ids.extend([track['id']])\n",
    "#         print(idx, track['artists'][0]['name'], \" – \", track['name'])\n",
    "\n",
    "    # progress bar\n",
    "    if(len(track_ids) % 100 == 0):\n",
    "        print(len(track_ids), end=\" \")\n",
    "    \n",
    "    # either end loop once no more tracks to add or increment counter\n",
    "    if not response['next']:\n",
    "        break\n",
    "    \n",
    "    i += 1\n",
    "    \n",
    "print(\"success!\")\n",
    "    \n",
    "# ensure that all track ids are unique (not duplicating weirdly)\n",
    "assert len(track_ids) == len(np.unique(track_ids)), f'Tracks ids not read in properly, as only {len(np.unique(track_ids))}/{len(track_ids)} track IDs are unique'"
   ]
  },
  {
   "cell_type": "code",
   "execution_count": 143,
   "id": "fallen-identification",
   "metadata": {},
   "outputs": [
    {
     "name": "stdout",
     "output_type": "stream",
     "text": [
      "going to 52...\n",
      "0 1 2 3 4 5 6 7 8 9 10 11 12 13 14 15 16 17 18 19 20 21 22 23 24 25 26 27 28 29 30 31 32 33 34 35 36 37 38 39 40 41 42 43 44 45 46 47 48 49 50 51 success!\n"
     ]
    }
   ],
   "source": [
    "# get audio features for each track using track_ids\n",
    "\n",
    "AUDIO_FEATURES_LIMIT = 100\n",
    "num_requests = int(len(track_ids)/AUDIO_FEATURES_LIMIT)\n",
    "remainder = len(track_ids)%AUDIO_FEATURES_LIMIT\n",
    "\n",
    "assert num_requests*AUDIO_FEATURES_LIMIT+remainder == len(track_ids), f'math is wrong: {num_requests*AUDIO_FEATURES_LIMIT+remainder}, {len(track_ids)}'\n",
    "\n",
    "# initialize lists\n",
    "audio_features = []\n",
    "\n",
    "print(f'going to {num_requests}...')\n",
    "\n",
    "# read in audio features by 100s for all of track_ids (limit is 100)\n",
    "for i in range(num_requests):\n",
    "    # create range of track ids to use\n",
    "    lo = i*AUDIO_FEATURES_LIMIT\n",
    "    hi = (i+1)*AUDIO_FEATURES_LIMIT\n",
    "    response = sp.audio_features(tracks=track_ids[lo:hi])\n",
    "\n",
    "    # add to relevant list\n",
    "    for j in range(len(response)):\n",
    "        audio_features.extend([[response[j]['acousticness'], response[j]['danceability'], \n",
    "                              response[j]['energy'], response[j]['instrumentalness'], \n",
    "                              response[j]['liveness'], response[j]['speechiness'], \n",
    "                              response[j]['valence']]])\n",
    "\n",
    "    # progress bar\n",
    "    print(i, end =\" \")\n",
    "\n",
    "# get remaining \n",
    "if(remainder > 0):\n",
    "    for j in range(0,remainder):\n",
    "        audio_features.extend([[response[j]['acousticness'], response[j]['danceability'], \n",
    "                              response[j]['energy'], response[j]['instrumentalness'], \n",
    "                              response[j]['liveness'], response[j]['speechiness'], \n",
    "                              response[j]['valence']]])\n",
    "    \n",
    "print(\"success!\")\n",
    "\n",
    "assert len(track_ids) == len(audio_features), f'length of feature list is {len(audio_features)} while track_ids is {len(track_ids)}'"
   ]
  },
  {
   "cell_type": "code",
   "execution_count": 144,
   "id": "western-spirituality",
   "metadata": {},
   "outputs": [
    {
     "data": {
      "text/html": [
       "<div>\n",
       "<style scoped>\n",
       "    .dataframe tbody tr th:only-of-type {\n",
       "        vertical-align: middle;\n",
       "    }\n",
       "\n",
       "    .dataframe tbody tr th {\n",
       "        vertical-align: top;\n",
       "    }\n",
       "\n",
       "    .dataframe thead th {\n",
       "        text-align: right;\n",
       "    }\n",
       "</style>\n",
       "<table border=\"1\" class=\"dataframe\">\n",
       "  <thead>\n",
       "    <tr style=\"text-align: right;\">\n",
       "      <th></th>\n",
       "      <th>acousticness</th>\n",
       "      <th>danceability</th>\n",
       "      <th>energy</th>\n",
       "      <th>instrumentalness</th>\n",
       "      <th>liveness</th>\n",
       "      <th>speechiness</th>\n",
       "      <th>valence</th>\n",
       "    </tr>\n",
       "  </thead>\n",
       "  <tbody>\n",
       "    <tr>\n",
       "      <th>0</th>\n",
       "      <td>0.149</td>\n",
       "      <td>0.644</td>\n",
       "      <td>0.811</td>\n",
       "      <td>0.000473</td>\n",
       "      <td>0.1700</td>\n",
       "      <td>0.0517</td>\n",
       "      <td>0.817</td>\n",
       "    </tr>\n",
       "    <tr>\n",
       "      <th>1</th>\n",
       "      <td>0.605</td>\n",
       "      <td>0.621</td>\n",
       "      <td>0.713</td>\n",
       "      <td>0.000008</td>\n",
       "      <td>0.1030</td>\n",
       "      <td>0.1020</td>\n",
       "      <td>0.609</td>\n",
       "    </tr>\n",
       "    <tr>\n",
       "      <th>2</th>\n",
       "      <td>0.366</td>\n",
       "      <td>0.746</td>\n",
       "      <td>0.765</td>\n",
       "      <td>0.001560</td>\n",
       "      <td>0.0799</td>\n",
       "      <td>0.0540</td>\n",
       "      <td>0.972</td>\n",
       "    </tr>\n",
       "    <tr>\n",
       "      <th>3</th>\n",
       "      <td>0.499</td>\n",
       "      <td>0.839</td>\n",
       "      <td>0.475</td>\n",
       "      <td>0.011400</td>\n",
       "      <td>0.3190</td>\n",
       "      <td>0.1900</td>\n",
       "      <td>0.667</td>\n",
       "    </tr>\n",
       "    <tr>\n",
       "      <th>4</th>\n",
       "      <td>0.324</td>\n",
       "      <td>0.604</td>\n",
       "      <td>0.573</td>\n",
       "      <td>0.101000</td>\n",
       "      <td>0.1030</td>\n",
       "      <td>0.1890</td>\n",
       "      <td>0.759</td>\n",
       "    </tr>\n",
       "  </tbody>\n",
       "</table>\n",
       "</div>"
      ],
      "text/plain": [
       "   acousticness  danceability  energy  instrumentalness  liveness  \\\n",
       "0         0.149         0.644   0.811          0.000473    0.1700   \n",
       "1         0.605         0.621   0.713          0.000008    0.1030   \n",
       "2         0.366         0.746   0.765          0.001560    0.0799   \n",
       "3         0.499         0.839   0.475          0.011400    0.3190   \n",
       "4         0.324         0.604   0.573          0.101000    0.1030   \n",
       "\n",
       "   speechiness  valence  \n",
       "0       0.0517    0.817  \n",
       "1       0.1020    0.609  \n",
       "2       0.0540    0.972  \n",
       "3       0.1900    0.667  \n",
       "4       0.1890    0.759  "
      ]
     },
     "execution_count": 144,
     "metadata": {},
     "output_type": "execute_result"
    }
   ],
   "source": [
    "# load all audio features data into dataframe\n",
    "data = pd.DataFrame(audio_features, columns=['acousticness', 'danceability', 'energy', 'instrumentalness', 'liveness', 'speechiness', 'valence'])\n",
    "data.head(5)"
   ]
  },
  {
   "cell_type": "markdown",
   "id": "twelve-three",
   "metadata": {},
   "source": [
    "My next job was to plot histograms and make sure that I had a decent distribution of values from 0 to 1.\n",
    "\n",
    "\n",
    "Here, I made sure my process was working properly by validating my charts with https://www.klangspektrum.digital/home, which shows your spread of various traits. Below are my histograms, followed by some of these images for reference"
   ]
  },
  {
   "cell_type": "code",
   "execution_count": 145,
   "id": "statistical-enforcement",
   "metadata": {
    "scrolled": false
   },
   "outputs": [
    {
     "data": {
      "image/png": "[encoded data removed]",
      "text/plain": [
       "<Figure size 1080x720 with 9 Axes>"
      ]
     },
     "metadata": {
      "needs_background": "light"
     },
     "output_type": "display_data"
    }
   ],
   "source": [
    "charts = data.hist(grid=False, bins=10, layout=(3,3), figsize=(15,10))"
   ]
  },
  {
   "cell_type": "markdown",
   "id": "simple-nashville",
   "metadata": {},
   "source": [
    "<img src=\"files/acousticness.png\" width=400 height=130 style=\"float:left\"/>\n",
    "<img src=\"files/danceability.png\" width=400 height=130/>\n",
    "<img src=\"files/energy.png\" width=400 height=130 style=\"float:left\"/>\n",
    "<img src=\"files/instrumentalness.png\" width=400 height=130 />\n",
    "<img src=\"files/liveness.png\" width=400 height=130 style=\"float:left\" />\n",
    "<img src=\"files/speechiness.png\" width=400 height=130 />\n",
    "<img src=\"files/valence.png\" width=400 height=130 style=\"float:left\" />"
   ]
  },
  {
   "cell_type": "code",
   "execution_count": null,
   "id": "facial-governor",
   "metadata": {},
   "outputs": [],
   "source": []
  },
  {
   "cell_type": "markdown",
   "id": "explicit-invalid",
   "metadata": {},
   "source": [
    "## Determine Number of Clusters (Average Silhouette)"
   ]
  },
  {
   "cell_type": "code",
   "execution_count": null,
   "id": "renewable-render",
   "metadata": {},
   "outputs": [],
   "source": []
  },
  {
   "cell_type": "markdown",
   "id": "compact-evans",
   "metadata": {},
   "source": [
    "## Data Processing"
   ]
  },
  {
   "cell_type": "code",
   "execution_count": null,
   "id": "destroyed-devon",
   "metadata": {},
   "outputs": [],
   "source": []
  }
 ],
 "metadata": {
  "kernelspec": {
   "display_name": "Python 3",
   "language": "python",
   "name": "python3"
  },
  "language_info": {
   "codemirror_mode": {
    "name": "ipython",
    "version": 3
   },
   "file_extension": ".py",
   "mimetype": "text/x-python",
   "name": "python",
   "nbconvert_exporter": "python",
   "pygments_lexer": "ipython3",
   "version": "3.7.9"
  }
 },
 "nbformat": 4,
 "nbformat_minor": 5
}
